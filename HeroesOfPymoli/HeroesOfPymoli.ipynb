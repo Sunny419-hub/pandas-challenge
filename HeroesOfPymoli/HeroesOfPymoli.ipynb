{
 "cells": [
  {
   "cell_type": "markdown",
   "metadata": {},
   "source": [
    "### Note\n",
    "* Instructions have been included for each segment. You do not have to follow them exactly, but they are included to help you think through the steps."
   ]
  },
  {
   "cell_type": "code",
   "execution_count": 1,
   "metadata": {
    "scrolled": true
   },
   "outputs": [
    {
     "data": {
      "text/html": [
       "<div>\n",
       "<style scoped>\n",
       "    .dataframe tbody tr th:only-of-type {\n",
       "        vertical-align: middle;\n",
       "    }\n",
       "\n",
       "    .dataframe tbody tr th {\n",
       "        vertical-align: top;\n",
       "    }\n",
       "\n",
       "    .dataframe thead th {\n",
       "        text-align: right;\n",
       "    }\n",
       "</style>\n",
       "<table border=\"1\" class=\"dataframe\">\n",
       "  <thead>\n",
       "    <tr style=\"text-align: right;\">\n",
       "      <th></th>\n",
       "      <th>Purchase ID</th>\n",
       "      <th>SN</th>\n",
       "      <th>Age</th>\n",
       "      <th>Gender</th>\n",
       "      <th>Item ID</th>\n",
       "      <th>Item Name</th>\n",
       "      <th>Price</th>\n",
       "    </tr>\n",
       "  </thead>\n",
       "  <tbody>\n",
       "    <tr>\n",
       "      <th>0</th>\n",
       "      <td>0</td>\n",
       "      <td>Lisim78</td>\n",
       "      <td>20</td>\n",
       "      <td>Male</td>\n",
       "      <td>108</td>\n",
       "      <td>Extraction, Quickblade Of Trembling Hands</td>\n",
       "      <td>3.53</td>\n",
       "    </tr>\n",
       "    <tr>\n",
       "      <th>1</th>\n",
       "      <td>1</td>\n",
       "      <td>Lisovynya38</td>\n",
       "      <td>40</td>\n",
       "      <td>Male</td>\n",
       "      <td>143</td>\n",
       "      <td>Frenzied Scimitar</td>\n",
       "      <td>1.56</td>\n",
       "    </tr>\n",
       "    <tr>\n",
       "      <th>2</th>\n",
       "      <td>2</td>\n",
       "      <td>Ithergue48</td>\n",
       "      <td>24</td>\n",
       "      <td>Male</td>\n",
       "      <td>92</td>\n",
       "      <td>Final Critic</td>\n",
       "      <td>4.88</td>\n",
       "    </tr>\n",
       "    <tr>\n",
       "      <th>3</th>\n",
       "      <td>3</td>\n",
       "      <td>Chamassasya86</td>\n",
       "      <td>24</td>\n",
       "      <td>Male</td>\n",
       "      <td>100</td>\n",
       "      <td>Blindscythe</td>\n",
       "      <td>3.27</td>\n",
       "    </tr>\n",
       "    <tr>\n",
       "      <th>4</th>\n",
       "      <td>4</td>\n",
       "      <td>Iskosia90</td>\n",
       "      <td>23</td>\n",
       "      <td>Male</td>\n",
       "      <td>131</td>\n",
       "      <td>Fury</td>\n",
       "      <td>1.44</td>\n",
       "    </tr>\n",
       "  </tbody>\n",
       "</table>\n",
       "</div>"
      ],
      "text/plain": [
       "   Purchase ID             SN  Age Gender  Item ID  \\\n",
       "0            0        Lisim78   20   Male      108   \n",
       "1            1    Lisovynya38   40   Male      143   \n",
       "2            2     Ithergue48   24   Male       92   \n",
       "3            3  Chamassasya86   24   Male      100   \n",
       "4            4      Iskosia90   23   Male      131   \n",
       "\n",
       "                                   Item Name  Price  \n",
       "0  Extraction, Quickblade Of Trembling Hands   3.53  \n",
       "1                          Frenzied Scimitar   1.56  \n",
       "2                               Final Critic   4.88  \n",
       "3                                Blindscythe   3.27  \n",
       "4                                       Fury   1.44  "
      ]
     },
     "execution_count": 1,
     "metadata": {},
     "output_type": "execute_result"
    }
   ],
   "source": [
    "# Dependencies and Setup\n",
    "import pandas as pd\n",
    "\n",
    "# File to Load (Remember to Change These)\n",
    "file_to_load = \"Resources/purchase_data.csv\"\n",
    "\n",
    "# Read Purchasing File and store into Pandas data frame\n",
    "purchase_data = pd.read_csv(file_to_load)\n",
    "purchase_data.head()"
   ]
  },
  {
   "cell_type": "markdown",
   "metadata": {},
   "source": [
    "## Player Count"
   ]
  },
  {
   "cell_type": "markdown",
   "metadata": {},
   "source": [
    "* Display the total number of players\n"
   ]
  },
  {
   "cell_type": "code",
   "execution_count": 2,
   "metadata": {},
   "outputs": [
    {
     "data": {
      "text/html": [
       "<div>\n",
       "<style scoped>\n",
       "    .dataframe tbody tr th:only-of-type {\n",
       "        vertical-align: middle;\n",
       "    }\n",
       "\n",
       "    .dataframe tbody tr th {\n",
       "        vertical-align: top;\n",
       "    }\n",
       "\n",
       "    .dataframe thead th {\n",
       "        text-align: right;\n",
       "    }\n",
       "</style>\n",
       "<table border=\"1\" class=\"dataframe\">\n",
       "  <thead>\n",
       "    <tr style=\"text-align: right;\">\n",
       "      <th></th>\n",
       "      <th>Total Players</th>\n",
       "    </tr>\n",
       "  </thead>\n",
       "  <tbody>\n",
       "    <tr>\n",
       "      <th>0</th>\n",
       "      <td>576</td>\n",
       "    </tr>\n",
       "  </tbody>\n",
       "</table>\n",
       "</div>"
      ],
      "text/plain": [
       "   Total Players\n",
       "0            576"
      ]
     },
     "execution_count": 2,
     "metadata": {},
     "output_type": "execute_result"
    }
   ],
   "source": [
    "# Calculate the number of the total players\n",
    "players_count = len(purchase_data[\"SN\"].unique())\n",
    "summary_df = pd.DataFrame({\"Total Players\": [players_count],\n",
    "                             })              \n",
    "summary_df "
   ]
  },
  {
   "cell_type": "markdown",
   "metadata": {},
   "source": [
    "## Purchasing Analysis (Total)"
   ]
  },
  {
   "cell_type": "markdown",
   "metadata": {},
   "source": [
    "* Run basic calculations to obtain number of unique items, average price, etc.\n",
    "\n",
    "\n",
    "* Create a summary data frame to hold the results\n",
    "\n",
    "\n",
    "* Optional: give the displayed data cleaner formatting\n",
    "\n",
    "\n",
    "* Display the summary data frame\n"
   ]
  },
  {
   "cell_type": "code",
   "execution_count": 3,
   "metadata": {
    "scrolled": true
   },
   "outputs": [
    {
     "data": {
      "text/html": [
       "<div>\n",
       "<style scoped>\n",
       "    .dataframe tbody tr th:only-of-type {\n",
       "        vertical-align: middle;\n",
       "    }\n",
       "\n",
       "    .dataframe tbody tr th {\n",
       "        vertical-align: top;\n",
       "    }\n",
       "\n",
       "    .dataframe thead th {\n",
       "        text-align: right;\n",
       "    }\n",
       "</style>\n",
       "<table border=\"1\" class=\"dataframe\">\n",
       "  <thead>\n",
       "    <tr style=\"text-align: right;\">\n",
       "      <th></th>\n",
       "      <th>Number of Unique Items</th>\n",
       "      <th>Average Price</th>\n",
       "      <th>Number of Purchases</th>\n",
       "      <th>Total Revenue</th>\n",
       "    </tr>\n",
       "  </thead>\n",
       "  <tbody>\n",
       "    <tr>\n",
       "      <th>0</th>\n",
       "      <td>179</td>\n",
       "      <td>$3.05</td>\n",
       "      <td>780</td>\n",
       "      <td>$2,379.77</td>\n",
       "    </tr>\n",
       "  </tbody>\n",
       "</table>\n",
       "</div>"
      ],
      "text/plain": [
       "   Number of Unique Items Average Price  Number of Purchases Total Revenue\n",
       "0                     179         $3.05                  780     $2,379.77"
      ]
     },
     "execution_count": 3,
     "metadata": {},
     "output_type": "execute_result"
    }
   ],
   "source": [
    "# Calculate the Purchasing Analysis \n",
    "items_count = len(purchase_data[\"Item Name\"].unique())\n",
    "average_price = \"${:.2f}\".format(purchase_data[\"Price\"].mean())\n",
    "purchase_count = len(purchase_data[\"Purchase ID\"].unique())\n",
    "revenue_count = \"${:,.2f}\".format(purchase_data[\"Price\"].sum())\n",
    "summary_df = pd.DataFrame ({\"Number of Unique Items\": [items_count],\n",
    "                            \"Average Price\":[average_price],\n",
    "                            \"Number of Purchases\": [purchase_count],\n",
    "                            \"Total Revenue\": [revenue_count],                          \n",
    "                           }) \n",
    "summary_df\n"
   ]
  },
  {
   "cell_type": "markdown",
   "metadata": {},
   "source": [
    "## Gender Demographics"
   ]
  },
  {
   "cell_type": "markdown",
   "metadata": {},
   "source": [
    "* Percentage and Count of Male Players\n",
    "\n",
    "\n",
    "* Percentage and Count of Female Players\n",
    "\n",
    "\n",
    "* Percentage and Count of Other / Non-Disclosed\n",
    "\n",
    "\n"
   ]
  },
  {
   "cell_type": "code",
   "execution_count": 4,
   "metadata": {},
   "outputs": [
    {
     "data": {
      "text/html": [
       "<style  type=\"text/css\" >\n",
       "</style><table id=\"T_1875e821_9e71_11eb_99ff_db66ca2f7744\" ><thead>    <tr>        <th class=\"blank level0\" ></th>        <th class=\"col_heading level0 col0\" >Total Count</th>        <th class=\"col_heading level0 col1\" >Percentage of Players</th>    </tr>    <tr>        <th class=\"index_name level0\" >Gender</th>        <th class=\"blank\" ></th>        <th class=\"blank\" ></th>    </tr></thead><tbody>\n",
       "                <tr>\n",
       "                        <th id=\"T_1875e821_9e71_11eb_99ff_db66ca2f7744level0_row0\" class=\"row_heading level0 row0\" >Male</th>\n",
       "                        <td id=\"T_1875e821_9e71_11eb_99ff_db66ca2f7744row0_col0\" class=\"data row0 col0\" >484</td>\n",
       "                        <td id=\"T_1875e821_9e71_11eb_99ff_db66ca2f7744row0_col1\" class=\"data row0 col1\" >84.03%</td>\n",
       "            </tr>\n",
       "            <tr>\n",
       "                        <th id=\"T_1875e821_9e71_11eb_99ff_db66ca2f7744level0_row1\" class=\"row_heading level0 row1\" >Female</th>\n",
       "                        <td id=\"T_1875e821_9e71_11eb_99ff_db66ca2f7744row1_col0\" class=\"data row1 col0\" >81</td>\n",
       "                        <td id=\"T_1875e821_9e71_11eb_99ff_db66ca2f7744row1_col1\" class=\"data row1 col1\" >14.06%</td>\n",
       "            </tr>\n",
       "            <tr>\n",
       "                        <th id=\"T_1875e821_9e71_11eb_99ff_db66ca2f7744level0_row2\" class=\"row_heading level0 row2\" >Other / Non-Disclosed</th>\n",
       "                        <td id=\"T_1875e821_9e71_11eb_99ff_db66ca2f7744row2_col0\" class=\"data row2 col0\" >11</td>\n",
       "                        <td id=\"T_1875e821_9e71_11eb_99ff_db66ca2f7744row2_col1\" class=\"data row2 col1\" >1.91%</td>\n",
       "            </tr>\n",
       "    </tbody></table>"
      ],
      "text/plain": [
       "<pandas.io.formats.style.Styler at 0x1f3c88de820>"
      ]
     },
     "execution_count": 4,
     "metadata": {},
     "output_type": "execute_result"
    }
   ],
   "source": [
    "# First filter per gender and delete duplicate values in SN\n",
    "gender_sn = pd.DataFrame(purchase_data.drop_duplicates(subset=\"SN\").groupby([\"Gender\"]).count())\n",
    "\n",
    "# Rename variable\n",
    "gender_sn[\"Total Count\"] = gender_sn[\"Purchase ID\"]\n",
    "\n",
    "# Calculate percentage\n",
    "gender_sn[\"Percentage of Players\"] = (gender_sn[\"Total Count\"]/players_count)*100\n",
    "\n",
    "# printing the columns needed and formatting\n",
    "gender_sn.sort_values('Total Count', ascending=[False])[['Total Count','Percentage of Players']].style.format({'Percentage of Players':'{:.2f}%'})\n",
    "\n"
   ]
  },
  {
   "cell_type": "markdown",
   "metadata": {},
   "source": [
    "\n",
    "## Purchasing Analysis (Gender)"
   ]
  },
  {
   "cell_type": "markdown",
   "metadata": {},
   "source": [
    "* Run basic calculations to obtain purchase count, avg. purchase price, avg. purchase total per person etc. by gender\n",
    "\n",
    "\n",
    "\n",
    "\n",
    "* Create a summary data frame to hold the results\n",
    "\n",
    "\n",
    "* Optional: give the displayed data cleaner formatting\n",
    "\n",
    "\n",
    "* Display the summary data frame"
   ]
  },
  {
   "cell_type": "code",
   "execution_count": 5,
   "metadata": {},
   "outputs": [
    {
     "data": {
      "text/html": [
       "<div>\n",
       "<style scoped>\n",
       "    .dataframe tbody tr th:only-of-type {\n",
       "        vertical-align: middle;\n",
       "    }\n",
       "\n",
       "    .dataframe tbody tr th {\n",
       "        vertical-align: top;\n",
       "    }\n",
       "\n",
       "    .dataframe thead th {\n",
       "        text-align: right;\n",
       "    }\n",
       "</style>\n",
       "<table border=\"1\" class=\"dataframe\">\n",
       "  <thead>\n",
       "    <tr style=\"text-align: right;\">\n",
       "      <th></th>\n",
       "      <th>Purchase Count</th>\n",
       "      <th>Average Purchase Price</th>\n",
       "      <th>Total Purchase Value</th>\n",
       "      <th>Avg Total Purchase per Person</th>\n",
       "    </tr>\n",
       "    <tr>\n",
       "      <th>Gender</th>\n",
       "      <th></th>\n",
       "      <th></th>\n",
       "      <th></th>\n",
       "      <th></th>\n",
       "    </tr>\n",
       "  </thead>\n",
       "  <tbody>\n",
       "    <tr>\n",
       "      <th>Female</th>\n",
       "      <td>113</td>\n",
       "      <td>$3.20</td>\n",
       "      <td>$361.94</td>\n",
       "      <td>$4.47</td>\n",
       "    </tr>\n",
       "    <tr>\n",
       "      <th>Male</th>\n",
       "      <td>652</td>\n",
       "      <td>$3.02</td>\n",
       "      <td>$1,967.64</td>\n",
       "      <td>$4.07</td>\n",
       "    </tr>\n",
       "    <tr>\n",
       "      <th>Other / Non-Disclosed</th>\n",
       "      <td>15</td>\n",
       "      <td>$3.35</td>\n",
       "      <td>$50.19</td>\n",
       "      <td>$4.56</td>\n",
       "    </tr>\n",
       "  </tbody>\n",
       "</table>\n",
       "</div>"
      ],
      "text/plain": [
       "                       Purchase Count Average Purchase Price  \\\n",
       "Gender                                                         \n",
       "Female                            113                  $3.20   \n",
       "Male                              652                  $3.02   \n",
       "Other / Non-Disclosed              15                  $3.35   \n",
       "\n",
       "                      Total Purchase Value Avg Total Purchase per Person  \n",
       "Gender                                                                    \n",
       "Female                             $361.94                         $4.47  \n",
       "Male                             $1,967.64                         $4.07  \n",
       "Other / Non-Disclosed               $50.19                         $4.56  "
      ]
     },
     "execution_count": 5,
     "metadata": {},
     "output_type": "execute_result"
    }
   ],
   "source": [
    "\n",
    "purchasing_df = purchase_data[[\"Purchase ID\", \"SN\", \"Gender\", \"Price\"]]\n",
    "\n",
    "purchasing_gender = pd.DataFrame(purchasing_df.groupby([\"Gender\"]).count()[\"Purchase ID\"])\n",
    "\n",
    "purchasing_gender[\"Purchase Count\"] = purchasing_gender[\"Purchase ID\"]\n",
    "\n",
    "purchasing_gender[\"Total Purchase Value\"] = (purchasing_df.groupby([\"Gender\"]).sum()[\"Price\"]).round(2)\n",
    "\n",
    "purchasing_gender [\"Average Purchase Price\"] = (purchasing_gender[\"Total Purchase Value\"]/purchasing_gender[\"Purchase Count\"]).round(2)\n",
    "\n",
    "purchasing_gender [\"Avg Total Purchase per Person\"] = (purchasing_gender[\"Total Purchase Value\"]/gender_sn[\"Total Count\"]).round(2)\n",
    "\n",
    "purchasing_gender = purchasing_gender [[\"Purchase Count\",\n",
    "                                       \"Average Purchase Price\",\n",
    "                                       \"Total Purchase Value\",\n",
    "                                       \"Avg Total Purchase per Person\"]]\n",
    "\n",
    "\n",
    "purchasing_gender[\"Total Purchase Value\"] = purchasing_gender[\"Total Purchase Value\"].map(\n",
    "    \"${0:,.2f}\".format)\n",
    "\n",
    "purchasing_gender[\"Average Purchase Price\"] = purchasing_gender[\"Average Purchase Price\"].map(\n",
    "    \"${0:,.2f}\".format)\n",
    "purchasing_gender[\"Avg Total Purchase per Person\"] = purchasing_gender[\"Avg Total Purchase per Person\"].map(\n",
    "    \"${0:,.2f}\".format)\n",
    "\n",
    "purchasing_gender"
   ]
  },
  {
   "cell_type": "markdown",
   "metadata": {},
   "source": [
    "## Age Demographics"
   ]
  },
  {
   "cell_type": "markdown",
   "metadata": {},
   "source": [
    "* Establish bins for ages\n",
    "\n",
    "\n",
    "* Categorize the existing players using the age bins. Hint: use pd.cut()\n",
    "\n",
    "\n",
    "* Calculate the numbers and percentages by age group\n",
    "\n",
    "\n",
    "* Create a summary data frame to hold the results\n",
    "\n",
    "\n",
    "* Optional: round the percentage column to two decimal points\n",
    "\n",
    "\n",
    "* Display Age Demographics Table\n"
   ]
  },
  {
   "cell_type": "code",
   "execution_count": 6,
   "metadata": {},
   "outputs": [
    {
     "data": {
      "text/html": [
       "<div>\n",
       "<style scoped>\n",
       "    .dataframe tbody tr th:only-of-type {\n",
       "        vertical-align: middle;\n",
       "    }\n",
       "\n",
       "    .dataframe tbody tr th {\n",
       "        vertical-align: top;\n",
       "    }\n",
       "\n",
       "    .dataframe thead th {\n",
       "        text-align: right;\n",
       "    }\n",
       "</style>\n",
       "<table border=\"1\" class=\"dataframe\">\n",
       "  <thead>\n",
       "    <tr style=\"text-align: right;\">\n",
       "      <th></th>\n",
       "      <th>Total Count</th>\n",
       "      <th>Percentage of Players</th>\n",
       "    </tr>\n",
       "    <tr>\n",
       "      <th>Age Ranges</th>\n",
       "      <th></th>\n",
       "      <th></th>\n",
       "    </tr>\n",
       "  </thead>\n",
       "  <tbody>\n",
       "    <tr>\n",
       "      <th>&lt;10</th>\n",
       "      <td>17</td>\n",
       "      <td>2.95%</td>\n",
       "    </tr>\n",
       "    <tr>\n",
       "      <th>10-14</th>\n",
       "      <td>22</td>\n",
       "      <td>3.82%</td>\n",
       "    </tr>\n",
       "    <tr>\n",
       "      <th>15-19</th>\n",
       "      <td>107</td>\n",
       "      <td>18.58%</td>\n",
       "    </tr>\n",
       "    <tr>\n",
       "      <th>20-24</th>\n",
       "      <td>258</td>\n",
       "      <td>44.79%</td>\n",
       "    </tr>\n",
       "    <tr>\n",
       "      <th>25-29</th>\n",
       "      <td>77</td>\n",
       "      <td>13.37%</td>\n",
       "    </tr>\n",
       "    <tr>\n",
       "      <th>30-34</th>\n",
       "      <td>52</td>\n",
       "      <td>9.03%</td>\n",
       "    </tr>\n",
       "    <tr>\n",
       "      <th>35-39</th>\n",
       "      <td>31</td>\n",
       "      <td>5.38%</td>\n",
       "    </tr>\n",
       "    <tr>\n",
       "      <th>40+</th>\n",
       "      <td>12</td>\n",
       "      <td>2.08%</td>\n",
       "    </tr>\n",
       "  </tbody>\n",
       "</table>\n",
       "</div>"
      ],
      "text/plain": [
       "            Total Count Percentage of Players\n",
       "Age Ranges                                   \n",
       "<10                  17                 2.95%\n",
       "10-14                22                 3.82%\n",
       "15-19               107                18.58%\n",
       "20-24               258                44.79%\n",
       "25-29                77                13.37%\n",
       "30-34                52                 9.03%\n",
       "35-39                31                 5.38%\n",
       "40+                  12                 2.08%"
      ]
     },
     "execution_count": 6,
     "metadata": {},
     "output_type": "execute_result"
    }
   ],
   "source": [
    "ages_df = purchase_data[[\"Purchase ID\", \"SN\", \"Age\"]]\n",
    "                        \n",
    "ages_demo = ages_df[[\"Purchase ID\", \"SN\", \"Age\"]]\n",
    "                    \n",
    "# Create the bins in which Data will be held\n",
    "\n",
    "bins = [0,9,14,19,24,29,34,39,100]\n",
    "\n",
    "age_ranges_names = [\"<10\",\"10-14\",\"15-19\",\"20-24\",\"25-29\",\"30-34\",\"35-39\", \"40+\"]\n",
    "\n",
    "\n",
    "ages_demo[\"Age Ranges\"] = pd.cut(ages_demo[\"Age\"], bins, labels=age_ranges_names, include_lowest=True)\n",
    "\n",
    "# Delete duplicate values SN\n",
    "ages_demo = ages_demo.drop_duplicates(subset=\"SN\")\n",
    "\n",
    "# Creating a group based off of the bins\n",
    "ages_demo = ages_demo.groupby([\"Age Ranges\"]).count()\n",
    "\n",
    "# Rename column\n",
    "ages_demo[\"Total Count\"] = ages_demo[\"Purchase ID\"]\n",
    "\n",
    "# Calculate percentage\n",
    "ages_demo[\"Percentage of Players\"] = ((ages_demo[\"Total Count\"]/players_count)*100).round(2)\n",
    "\n",
    "# Cleaning dataframe\n",
    "ages_demo = ages_demo [[\"Total Count\",\n",
    "                        \"Percentage of Players\"]]\n",
    "\n",
    "# Formatting\n",
    "ages_demo[\"Percentage of Players\"] = ages_demo[\"Percentage of Players\"].map(\n",
    "    \"{0:,.2f}%\".format)\n",
    "\n",
    "ages_demo\n"
   ]
  },
  {
   "cell_type": "markdown",
   "metadata": {},
   "source": [
    "## Purchasing Analysis (Age)"
   ]
  },
  {
   "cell_type": "markdown",
   "metadata": {},
   "source": [
    "* Bin the purchase_data data frame by age\n",
    "\n",
    "\n",
    "* Run basic calculations to obtain purchase count, avg. purchase price, avg. purchase total per person etc. in the table below\n",
    "\n",
    "\n",
    "* Create a summary data frame to hold the results\n",
    "\n",
    "\n",
    "* Optional: give the displayed data cleaner formatting\n",
    "\n",
    "\n",
    "* Display the summary data frame"
   ]
  },
  {
   "cell_type": "code",
   "execution_count": 7,
   "metadata": {},
   "outputs": [
    {
     "data": {
      "text/html": [
       "<div>\n",
       "<style scoped>\n",
       "    .dataframe tbody tr th:only-of-type {\n",
       "        vertical-align: middle;\n",
       "    }\n",
       "\n",
       "    .dataframe tbody tr th {\n",
       "        vertical-align: top;\n",
       "    }\n",
       "\n",
       "    .dataframe thead th {\n",
       "        text-align: right;\n",
       "    }\n",
       "</style>\n",
       "<table border=\"1\" class=\"dataframe\">\n",
       "  <thead>\n",
       "    <tr style=\"text-align: right;\">\n",
       "      <th></th>\n",
       "      <th>Purchase Count</th>\n",
       "      <th>Average Purchase Price</th>\n",
       "      <th>Total Purchase Value</th>\n",
       "      <th>Avg Total Purchase per Person</th>\n",
       "    </tr>\n",
       "    <tr>\n",
       "      <th>Age Ranges</th>\n",
       "      <th></th>\n",
       "      <th></th>\n",
       "      <th></th>\n",
       "      <th></th>\n",
       "    </tr>\n",
       "  </thead>\n",
       "  <tbody>\n",
       "    <tr>\n",
       "      <th>&lt;10</th>\n",
       "      <td>23</td>\n",
       "      <td>$3.35</td>\n",
       "      <td>$77.13</td>\n",
       "      <td>$4.54</td>\n",
       "    </tr>\n",
       "    <tr>\n",
       "      <th>10-14</th>\n",
       "      <td>28</td>\n",
       "      <td>$2.96</td>\n",
       "      <td>$82.78</td>\n",
       "      <td>$3.76</td>\n",
       "    </tr>\n",
       "    <tr>\n",
       "      <th>15-19</th>\n",
       "      <td>136</td>\n",
       "      <td>$3.04</td>\n",
       "      <td>$412.89</td>\n",
       "      <td>$3.86</td>\n",
       "    </tr>\n",
       "    <tr>\n",
       "      <th>20-24</th>\n",
       "      <td>365</td>\n",
       "      <td>$3.05</td>\n",
       "      <td>$1,114.06</td>\n",
       "      <td>$4.32</td>\n",
       "    </tr>\n",
       "    <tr>\n",
       "      <th>25-29</th>\n",
       "      <td>101</td>\n",
       "      <td>$2.90</td>\n",
       "      <td>$293.00</td>\n",
       "      <td>$3.81</td>\n",
       "    </tr>\n",
       "    <tr>\n",
       "      <th>30-34</th>\n",
       "      <td>73</td>\n",
       "      <td>$2.93</td>\n",
       "      <td>$214.00</td>\n",
       "      <td>$4.12</td>\n",
       "    </tr>\n",
       "    <tr>\n",
       "      <th>35-39</th>\n",
       "      <td>41</td>\n",
       "      <td>$3.60</td>\n",
       "      <td>$147.67</td>\n",
       "      <td>$4.76</td>\n",
       "    </tr>\n",
       "    <tr>\n",
       "      <th>40+</th>\n",
       "      <td>13</td>\n",
       "      <td>$2.94</td>\n",
       "      <td>$38.24</td>\n",
       "      <td>$3.19</td>\n",
       "    </tr>\n",
       "  </tbody>\n",
       "</table>\n",
       "</div>"
      ],
      "text/plain": [
       "            Purchase Count Average Purchase Price Total Purchase Value  \\\n",
       "Age Ranges                                                               \n",
       "<10                     23                  $3.35               $77.13   \n",
       "10-14                   28                  $2.96               $82.78   \n",
       "15-19                  136                  $3.04              $412.89   \n",
       "20-24                  365                  $3.05            $1,114.06   \n",
       "25-29                  101                  $2.90              $293.00   \n",
       "30-34                   73                  $2.93              $214.00   \n",
       "35-39                   41                  $3.60              $147.67   \n",
       "40+                     13                  $2.94               $38.24   \n",
       "\n",
       "           Avg Total Purchase per Person  \n",
       "Age Ranges                                \n",
       "<10                                $4.54  \n",
       "10-14                              $3.76  \n",
       "15-19                              $3.86  \n",
       "20-24                              $4.32  \n",
       "25-29                              $3.81  \n",
       "30-34                              $4.12  \n",
       "35-39                              $4.76  \n",
       "40+                                $3.19  "
      ]
     },
     "execution_count": 7,
     "metadata": {},
     "output_type": "execute_result"
    }
   ],
   "source": [
    "purchasing_age_df = purchase_data[[\"Age\",\"Purchase ID\", \"SN\", \"Price\"]]\n",
    "\n",
    "purchasing_age = pd.DataFrame(purchasing_age_df)\n",
    "\n",
    "# Associatting the bins\n",
    "purchasing_age[\"Age Ranges\"] = pd.cut(purchasing_age[\"Age\"], bins, labels=age_ranges_names, include_lowest=True)\n",
    "\n",
    "# Creating a group based off of the bins\n",
    "purchasing_age = purchasing_age.groupby([\"Age Ranges\"]).count()\n",
    "\n",
    "\n",
    "purchasing_age[\"Purchase Count\"] = purchasing_age[\"Purchase ID\"]\n",
    "\n",
    "purchasing_age[\"Total Purchase Value\"] = (purchasing_age_df.groupby([\"Age Ranges\"]).sum()[\"Price\"]).round(2)\n",
    "\n",
    "purchasing_age[\"Average Purchase Price\"] = (purchasing_age[\"Total Purchase Value\"]/purchasing_age[\"Purchase Count\"]).round(2)\n",
    "\n",
    "purchasing_age[\"Avg Total Purchase per Person\"] = (purchasing_age[\"Total Purchase Value\"]/ages_demo[\"Total Count\"]).round(2)\n",
    "\n",
    "purchasing_age = purchasing_age [[\"Purchase Count\",\n",
    "                                  \"Average Purchase Price\",\n",
    "                                  \"Total Purchase Value\",\n",
    "                                  \"Avg Total Purchase per Person\"]]\n",
    "\n",
    "\n",
    "purchasing_age[\"Total Purchase Value\"] = purchasing_age[\"Total Purchase Value\"].map(\n",
    "    \"${0:,.2f}\".format)\n",
    "\n",
    "purchasing_age[\"Average Purchase Price\"] = purchasing_age[\"Average Purchase Price\"].map(\n",
    "    \"${0:,.2f}\".format)\n",
    "purchasing_age[\"Avg Total Purchase per Person\"] = purchasing_age[\"Avg Total Purchase per Person\"].map(\n",
    "    \"${0:,.2f}\".format)\n",
    "\n",
    "purchasing_age\n",
    "\n",
    "\n",
    "\n"
   ]
  },
  {
   "cell_type": "markdown",
   "metadata": {},
   "source": [
    "## Top Spenders"
   ]
  },
  {
   "cell_type": "markdown",
   "metadata": {},
   "source": [
    "* Run basic calculations to obtain the results in the table below\n",
    "\n",
    "\n",
    "* Create a summary data frame to hold the results\n",
    "\n",
    "\n",
    "* Sort the total purchase value column in descending order\n",
    "\n",
    "\n",
    "* Optional: give the displayed data cleaner formatting\n",
    "\n",
    "\n",
    "* Display a preview of the summary data frame\n",
    "\n"
   ]
  },
  {
   "cell_type": "code",
   "execution_count": 8,
   "metadata": {},
   "outputs": [
    {
     "data": {
      "text/html": [
       "<style  type=\"text/css\" >\n",
       "</style><table id=\"T_28a27ed3_9e71_11eb_8ada_db66ca2f7744\" ><thead>    <tr>        <th class=\"blank level0\" ></th>        <th class=\"col_heading level0 col0\" >Purchase Count</th>        <th class=\"col_heading level0 col1\" >Average Purchase Price</th>        <th class=\"col_heading level0 col2\" >Total Purchase Value</th>    </tr>    <tr>        <th class=\"index_name level0\" >SN</th>        <th class=\"blank\" ></th>        <th class=\"blank\" ></th>        <th class=\"blank\" ></th>    </tr></thead><tbody>\n",
       "                <tr>\n",
       "                        <th id=\"T_28a27ed3_9e71_11eb_8ada_db66ca2f7744level0_row0\" class=\"row_heading level0 row0\" >Lisosia93</th>\n",
       "                        <td id=\"T_28a27ed3_9e71_11eb_8ada_db66ca2f7744row0_col0\" class=\"data row0 col0\" >5</td>\n",
       "                        <td id=\"T_28a27ed3_9e71_11eb_8ada_db66ca2f7744row0_col1\" class=\"data row0 col1\" >$3.79</td>\n",
       "                        <td id=\"T_28a27ed3_9e71_11eb_8ada_db66ca2f7744row0_col2\" class=\"data row0 col2\" >$18.96</td>\n",
       "            </tr>\n",
       "            <tr>\n",
       "                        <th id=\"T_28a27ed3_9e71_11eb_8ada_db66ca2f7744level0_row1\" class=\"row_heading level0 row1\" >Idastidru52</th>\n",
       "                        <td id=\"T_28a27ed3_9e71_11eb_8ada_db66ca2f7744row1_col0\" class=\"data row1 col0\" >4</td>\n",
       "                        <td id=\"T_28a27ed3_9e71_11eb_8ada_db66ca2f7744row1_col1\" class=\"data row1 col1\" >$3.86</td>\n",
       "                        <td id=\"T_28a27ed3_9e71_11eb_8ada_db66ca2f7744row1_col2\" class=\"data row1 col2\" >$15.45</td>\n",
       "            </tr>\n",
       "            <tr>\n",
       "                        <th id=\"T_28a27ed3_9e71_11eb_8ada_db66ca2f7744level0_row2\" class=\"row_heading level0 row2\" >Chamjask73</th>\n",
       "                        <td id=\"T_28a27ed3_9e71_11eb_8ada_db66ca2f7744row2_col0\" class=\"data row2 col0\" >3</td>\n",
       "                        <td id=\"T_28a27ed3_9e71_11eb_8ada_db66ca2f7744row2_col1\" class=\"data row2 col1\" >$4.61</td>\n",
       "                        <td id=\"T_28a27ed3_9e71_11eb_8ada_db66ca2f7744row2_col2\" class=\"data row2 col2\" >$13.83</td>\n",
       "            </tr>\n",
       "            <tr>\n",
       "                        <th id=\"T_28a27ed3_9e71_11eb_8ada_db66ca2f7744level0_row3\" class=\"row_heading level0 row3\" >Iral74</th>\n",
       "                        <td id=\"T_28a27ed3_9e71_11eb_8ada_db66ca2f7744row3_col0\" class=\"data row3 col0\" >4</td>\n",
       "                        <td id=\"T_28a27ed3_9e71_11eb_8ada_db66ca2f7744row3_col1\" class=\"data row3 col1\" >$3.40</td>\n",
       "                        <td id=\"T_28a27ed3_9e71_11eb_8ada_db66ca2f7744row3_col2\" class=\"data row3 col2\" >$13.62</td>\n",
       "            </tr>\n",
       "            <tr>\n",
       "                        <th id=\"T_28a27ed3_9e71_11eb_8ada_db66ca2f7744level0_row4\" class=\"row_heading level0 row4\" >Iskadarya95</th>\n",
       "                        <td id=\"T_28a27ed3_9e71_11eb_8ada_db66ca2f7744row4_col0\" class=\"data row4 col0\" >3</td>\n",
       "                        <td id=\"T_28a27ed3_9e71_11eb_8ada_db66ca2f7744row4_col1\" class=\"data row4 col1\" >$4.37</td>\n",
       "                        <td id=\"T_28a27ed3_9e71_11eb_8ada_db66ca2f7744row4_col2\" class=\"data row4 col2\" >$13.10</td>\n",
       "            </tr>\n",
       "    </tbody></table>"
      ],
      "text/plain": [
       "<pandas.io.formats.style.Styler at 0x1f3c88e4160>"
      ]
     },
     "execution_count": 8,
     "metadata": {},
     "output_type": "execute_result"
    }
   ],
   "source": [
    "top_sp_df = purchase_data[[\"Purchase ID\", \"SN\",\"Price\"]]\n",
    "\n",
    "#top_spenders = pd.DataFrame(top_sp_df)\n",
    "top_spenders = pd.DataFrame(top_sp_df.groupby([\"SN\"]).size())\n",
    "\n",
    "top_spenders[\"Purchase Count\"] = top_spenders[0]\n",
    "\n",
    "top_spenders[\"Total Purchase Value\"] = (top_sp_df.groupby([\"SN\"]).sum()[\"Price\"]).round(2)\n",
    "\n",
    "#top_spenders[\"Average Purchase Price\"] = (purchasing_age[\"Total Purchase Value\"]/purchasing_age[\"Purchase Count\"]).round(2)\n",
    "\n",
    "top_spenders[\"Average Purchase Price\"] = (top_spenders[\"Total Purchase Value\"]/top_spenders[\"Purchase Count\"]).round(2)\n",
    "\n",
    "\n",
    "\n",
    "top_spenders = top_spenders [[\"Purchase Count\",\n",
    "                                  \"Average Purchase Price\",\n",
    "                                  \"Total Purchase Value\"]]\n",
    "\n",
    "top_spenders[\"Average Purchase Price\"] = top_spenders[\"Average Purchase Price\"].map(\n",
    "   \"${0:,.2f}\".format)\n",
    "\n",
    "top_spenders.sort_values('Total Purchase Value', ascending=[False]).head().style.format({'Total Purchase Value':'${:.2f}'})\n",
    "\n",
    "\n",
    "\n",
    "\n",
    "\n",
    "\n"
   ]
  },
  {
   "cell_type": "markdown",
   "metadata": {},
   "source": [
    "## Most Popular Items"
   ]
  },
  {
   "cell_type": "markdown",
   "metadata": {},
   "source": [
    "* Retrieve the Item ID, Item Name, and Item Price columns\n",
    "\n",
    "\n",
    "* Group by Item ID and Item Name. Perform calculations to obtain purchase count, average item price, and total purchase value\n",
    "\n",
    "\n",
    "* Create a summary data frame to hold the results\n",
    "\n",
    "\n",
    "* Sort the purchase count column in descending order\n",
    "\n",
    "\n",
    "* Optional: give the displayed data cleaner formatting\n",
    "\n",
    "\n",
    "* Display a preview of the summary data frame\n",
    "\n"
   ]
  },
  {
   "cell_type": "code",
   "execution_count": 10,
   "metadata": {},
   "outputs": [
    {
     "data": {
      "text/html": [
       "<style  type=\"text/css\" >\n",
       "</style><table id=\"T_488be22f_9e71_11eb_a635_db66ca2f7744\" ><thead>    <tr>        <th class=\"blank\" ></th>        <th class=\"blank level0\" ></th>        <th class=\"col_heading level0 col0\" >Purchase Count</th>        <th class=\"col_heading level0 col1\" >Item Price</th>        <th class=\"col_heading level0 col2\" >Total Purchase Value</th>    </tr>    <tr>        <th class=\"index_name level0\" >Item ID</th>        <th class=\"index_name level1\" >Item Name</th>        <th class=\"blank\" ></th>        <th class=\"blank\" ></th>        <th class=\"blank\" ></th>    </tr></thead><tbody>\n",
       "                <tr>\n",
       "                        <th id=\"T_488be22f_9e71_11eb_a635_db66ca2f7744level0_row0\" class=\"row_heading level0 row0\" >92</th>\n",
       "                        <th id=\"T_488be22f_9e71_11eb_a635_db66ca2f7744level1_row0\" class=\"row_heading level1 row0\" >Final Critic</th>\n",
       "                        <td id=\"T_488be22f_9e71_11eb_a635_db66ca2f7744row0_col0\" class=\"data row0 col0\" >13</td>\n",
       "                        <td id=\"T_488be22f_9e71_11eb_a635_db66ca2f7744row0_col1\" class=\"data row0 col1\" >$4.61</td>\n",
       "                        <td id=\"T_488be22f_9e71_11eb_a635_db66ca2f7744row0_col2\" class=\"data row0 col2\" >$59.99</td>\n",
       "            </tr>\n",
       "            <tr>\n",
       "                        <th id=\"T_488be22f_9e71_11eb_a635_db66ca2f7744level0_row1\" class=\"row_heading level0 row1\" >178</th>\n",
       "                        <th id=\"T_488be22f_9e71_11eb_a635_db66ca2f7744level1_row1\" class=\"row_heading level1 row1\" >Oathbreaker, Last Hope of the Breaking Storm</th>\n",
       "                        <td id=\"T_488be22f_9e71_11eb_a635_db66ca2f7744row1_col0\" class=\"data row1 col0\" >12</td>\n",
       "                        <td id=\"T_488be22f_9e71_11eb_a635_db66ca2f7744row1_col1\" class=\"data row1 col1\" >$4.23</td>\n",
       "                        <td id=\"T_488be22f_9e71_11eb_a635_db66ca2f7744row1_col2\" class=\"data row1 col2\" >$50.76</td>\n",
       "            </tr>\n",
       "            <tr>\n",
       "                        <th id=\"T_488be22f_9e71_11eb_a635_db66ca2f7744level0_row2\" class=\"row_heading level0 row2\" >145</th>\n",
       "                        <th id=\"T_488be22f_9e71_11eb_a635_db66ca2f7744level1_row2\" class=\"row_heading level1 row2\" >Fiery Glass Crusader</th>\n",
       "                        <td id=\"T_488be22f_9e71_11eb_a635_db66ca2f7744row2_col0\" class=\"data row2 col0\" >9</td>\n",
       "                        <td id=\"T_488be22f_9e71_11eb_a635_db66ca2f7744row2_col1\" class=\"data row2 col1\" >$4.58</td>\n",
       "                        <td id=\"T_488be22f_9e71_11eb_a635_db66ca2f7744row2_col2\" class=\"data row2 col2\" >$41.22</td>\n",
       "            </tr>\n",
       "            <tr>\n",
       "                        <th id=\"T_488be22f_9e71_11eb_a635_db66ca2f7744level0_row3\" class=\"row_heading level0 row3\" >132</th>\n",
       "                        <th id=\"T_488be22f_9e71_11eb_a635_db66ca2f7744level1_row3\" class=\"row_heading level1 row3\" >Persuasion</th>\n",
       "                        <td id=\"T_488be22f_9e71_11eb_a635_db66ca2f7744row3_col0\" class=\"data row3 col0\" >9</td>\n",
       "                        <td id=\"T_488be22f_9e71_11eb_a635_db66ca2f7744row3_col1\" class=\"data row3 col1\" >$3.22</td>\n",
       "                        <td id=\"T_488be22f_9e71_11eb_a635_db66ca2f7744row3_col2\" class=\"data row3 col2\" >$28.99</td>\n",
       "            </tr>\n",
       "            <tr>\n",
       "                        <th id=\"T_488be22f_9e71_11eb_a635_db66ca2f7744level0_row4\" class=\"row_heading level0 row4\" >108</th>\n",
       "                        <th id=\"T_488be22f_9e71_11eb_a635_db66ca2f7744level1_row4\" class=\"row_heading level1 row4\" >Extraction, Quickblade Of Trembling Hands</th>\n",
       "                        <td id=\"T_488be22f_9e71_11eb_a635_db66ca2f7744row4_col0\" class=\"data row4 col0\" >9</td>\n",
       "                        <td id=\"T_488be22f_9e71_11eb_a635_db66ca2f7744row4_col1\" class=\"data row4 col1\" >$3.53</td>\n",
       "                        <td id=\"T_488be22f_9e71_11eb_a635_db66ca2f7744row4_col2\" class=\"data row4 col2\" >$31.77</td>\n",
       "            </tr>\n",
       "    </tbody></table>"
      ],
      "text/plain": [
       "<pandas.io.formats.style.Styler at 0x1f3cbb265e0>"
      ]
     },
     "execution_count": 10,
     "metadata": {},
     "output_type": "execute_result"
    }
   ],
   "source": [
    "pop_items_df = purchase_data[[\"Item ID\",\"Item Name\",\"Price\", \"Purchase ID\"]]\n",
    "\n",
    "\n",
    "pop_items = pd.DataFrame(pop_items_df.groupby([\"Item ID\",\"Item Name\"])[\"Purchase ID\"].count())\n",
    "\n",
    "pop_items[\"Purchase Count\"] = pop_items[\"Purchase ID\"]\n",
    "\n",
    "pop_items[\"Total Purchase Value\"] = pd.DataFrame(pop_items_df.groupby([\"Item ID\",\"Item Name\"])[\"Price\"].sum())[\"Price\"]\n",
    "\n",
    "pop_items[\"Item Price\"] = (pop_items[\"Total Purchase Value\"]/pop_items[\"Purchase Count\"]).round(2)\n",
    "\n",
    "pop_items = pop_items [[\"Purchase Count\",\n",
    "                        \"Item Price\",\n",
    "                        \"Total Purchase Value\"]]\n",
    "\n",
    "pop_items[\"Item Price\"] = pop_items[\"Item Price\"].map(\n",
    "   \"${0:,.2f}\".format)\n",
    "\n",
    "pop_items.sort_values('Purchase Count', ascending=[False]).head().style.format({'Total Purchase Value':'${:.2f}'})\n",
    "\n",
    "\n"
   ]
  },
  {
   "cell_type": "markdown",
   "metadata": {},
   "source": [
    "## Most Profitable Items"
   ]
  },
  {
   "cell_type": "markdown",
   "metadata": {},
   "source": [
    "* Sort the above table by total purchase value in descending order\n",
    "\n",
    "\n",
    "* Optional: give the displayed data cleaner formatting\n",
    "\n",
    "\n",
    "* Display a preview of the data frame\n",
    "\n"
   ]
  },
  {
   "cell_type": "code",
   "execution_count": 12,
   "metadata": {
    "scrolled": true
   },
   "outputs": [
    {
     "data": {
      "text/html": [
       "<style  type=\"text/css\" >\n",
       "</style><table id=\"T_58bcf9b5_9e71_11eb_bfda_db66ca2f7744\" ><thead>    <tr>        <th class=\"blank\" ></th>        <th class=\"blank level0\" ></th>        <th class=\"col_heading level0 col0\" >Purchase Count</th>        <th class=\"col_heading level0 col1\" >Item Price</th>        <th class=\"col_heading level0 col2\" >Total Purchase Value</th>    </tr>    <tr>        <th class=\"index_name level0\" >Item ID</th>        <th class=\"index_name level1\" >Item Name</th>        <th class=\"blank\" ></th>        <th class=\"blank\" ></th>        <th class=\"blank\" ></th>    </tr></thead><tbody>\n",
       "                <tr>\n",
       "                        <th id=\"T_58bcf9b5_9e71_11eb_bfda_db66ca2f7744level0_row0\" class=\"row_heading level0 row0\" >92</th>\n",
       "                        <th id=\"T_58bcf9b5_9e71_11eb_bfda_db66ca2f7744level1_row0\" class=\"row_heading level1 row0\" >Final Critic</th>\n",
       "                        <td id=\"T_58bcf9b5_9e71_11eb_bfda_db66ca2f7744row0_col0\" class=\"data row0 col0\" >13</td>\n",
       "                        <td id=\"T_58bcf9b5_9e71_11eb_bfda_db66ca2f7744row0_col1\" class=\"data row0 col1\" >$4.61</td>\n",
       "                        <td id=\"T_58bcf9b5_9e71_11eb_bfda_db66ca2f7744row0_col2\" class=\"data row0 col2\" >$59.99</td>\n",
       "            </tr>\n",
       "            <tr>\n",
       "                        <th id=\"T_58bcf9b5_9e71_11eb_bfda_db66ca2f7744level0_row1\" class=\"row_heading level0 row1\" >178</th>\n",
       "                        <th id=\"T_58bcf9b5_9e71_11eb_bfda_db66ca2f7744level1_row1\" class=\"row_heading level1 row1\" >Oathbreaker, Last Hope of the Breaking Storm</th>\n",
       "                        <td id=\"T_58bcf9b5_9e71_11eb_bfda_db66ca2f7744row1_col0\" class=\"data row1 col0\" >12</td>\n",
       "                        <td id=\"T_58bcf9b5_9e71_11eb_bfda_db66ca2f7744row1_col1\" class=\"data row1 col1\" >$4.23</td>\n",
       "                        <td id=\"T_58bcf9b5_9e71_11eb_bfda_db66ca2f7744row1_col2\" class=\"data row1 col2\" >$50.76</td>\n",
       "            </tr>\n",
       "            <tr>\n",
       "                        <th id=\"T_58bcf9b5_9e71_11eb_bfda_db66ca2f7744level0_row2\" class=\"row_heading level0 row2\" >82</th>\n",
       "                        <th id=\"T_58bcf9b5_9e71_11eb_bfda_db66ca2f7744level1_row2\" class=\"row_heading level1 row2\" >Nirvana</th>\n",
       "                        <td id=\"T_58bcf9b5_9e71_11eb_bfda_db66ca2f7744row2_col0\" class=\"data row2 col0\" >9</td>\n",
       "                        <td id=\"T_58bcf9b5_9e71_11eb_bfda_db66ca2f7744row2_col1\" class=\"data row2 col1\" >$4.90</td>\n",
       "                        <td id=\"T_58bcf9b5_9e71_11eb_bfda_db66ca2f7744row2_col2\" class=\"data row2 col2\" >$44.10</td>\n",
       "            </tr>\n",
       "            <tr>\n",
       "                        <th id=\"T_58bcf9b5_9e71_11eb_bfda_db66ca2f7744level0_row3\" class=\"row_heading level0 row3\" >145</th>\n",
       "                        <th id=\"T_58bcf9b5_9e71_11eb_bfda_db66ca2f7744level1_row3\" class=\"row_heading level1 row3\" >Fiery Glass Crusader</th>\n",
       "                        <td id=\"T_58bcf9b5_9e71_11eb_bfda_db66ca2f7744row3_col0\" class=\"data row3 col0\" >9</td>\n",
       "                        <td id=\"T_58bcf9b5_9e71_11eb_bfda_db66ca2f7744row3_col1\" class=\"data row3 col1\" >$4.58</td>\n",
       "                        <td id=\"T_58bcf9b5_9e71_11eb_bfda_db66ca2f7744row3_col2\" class=\"data row3 col2\" >$41.22</td>\n",
       "            </tr>\n",
       "            <tr>\n",
       "                        <th id=\"T_58bcf9b5_9e71_11eb_bfda_db66ca2f7744level0_row4\" class=\"row_heading level0 row4\" >103</th>\n",
       "                        <th id=\"T_58bcf9b5_9e71_11eb_bfda_db66ca2f7744level1_row4\" class=\"row_heading level1 row4\" >Singed Scalpel</th>\n",
       "                        <td id=\"T_58bcf9b5_9e71_11eb_bfda_db66ca2f7744row4_col0\" class=\"data row4 col0\" >8</td>\n",
       "                        <td id=\"T_58bcf9b5_9e71_11eb_bfda_db66ca2f7744row4_col1\" class=\"data row4 col1\" >$4.35</td>\n",
       "                        <td id=\"T_58bcf9b5_9e71_11eb_bfda_db66ca2f7744row4_col2\" class=\"data row4 col2\" >$34.80</td>\n",
       "            </tr>\n",
       "    </tbody></table>"
      ],
      "text/plain": [
       "<pandas.io.formats.style.Styler at 0x1f3cba0f2e0>"
      ]
     },
     "execution_count": 12,
     "metadata": {},
     "output_type": "execute_result"
    }
   ],
   "source": [
    "pop_items.sort_values('Total Purchase Value', ascending=[False]).head().style.format({'Total Purchase Value':'${:.2f}'})"
   ]
  },
  {
   "cell_type": "code",
   "execution_count": null,
   "metadata": {},
   "outputs": [],
   "source": []
  }
 ],
 "metadata": {
  "anaconda-cloud": {},
  "kernel_info": {
   "name": "python3"
  },
  "kernelspec": {
   "display_name": "Python 3",
   "language": "python",
   "name": "python3"
  },
  "language_info": {
   "codemirror_mode": {
    "name": "ipython",
    "version": 3
   },
   "file_extension": ".py",
   "mimetype": "text/x-python",
   "name": "python",
   "nbconvert_exporter": "python",
   "pygments_lexer": "ipython3",
   "version": "3.8.5"
  },
  "latex_envs": {
   "LaTeX_envs_menu_present": true,
   "autoclose": false,
   "autocomplete": true,
   "bibliofile": "biblio.bib",
   "cite_by": "apalike",
   "current_citInitial": 1,
   "eqLabelWithNumbers": true,
   "eqNumInitial": 1,
   "hotkeys": {
    "equation": "Ctrl-E",
    "itemize": "Ctrl-I"
   },
   "labels_anchors": false,
   "latex_user_defs": false,
   "report_style_numbering": false,
   "user_envs_cfg": false
  },
  "nteract": {
   "version": "0.2.0"
  }
 },
 "nbformat": 4,
 "nbformat_minor": 2
}
